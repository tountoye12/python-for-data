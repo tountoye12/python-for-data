{
 "cells": [
  {
   "cell_type": "code",
   "execution_count": 8,
   "id": "2ef64ea3-6c0b-49b8-b350-83eec4b3cef5",
   "metadata": {},
   "outputs": [
    {
     "name": "stdout",
     "output_type": "stream",
     "text": [
      "5\n",
      "4\n",
      "3\n",
      "2\n",
      "1\n"
     ]
    }
   ],
   "source": [
    "list = [i for i in range(1, 6)]\n",
    "reversed_nums =  reversed(list)\n",
    "for i in reversed_nums:\n",
    "    print(i)"
   ]
  },
  {
   "cell_type": "code",
   "execution_count": 9,
   "id": "5a56c8c2-118d-403c-b0af-8c5a1c4d0172",
   "metadata": {},
   "outputs": [],
   "source": [
    "list_2  = [6, 5,7, 200, 1, 4]"
   ]
  },
  {
   "cell_type": "code",
   "execution_count": 11,
   "id": "94718da6-d5f9-4285-93d4-79b5614a0e36",
   "metadata": {},
   "outputs": [
    {
     "name": "stdout",
     "output_type": "stream",
     "text": [
      "[200, 7, 6, 5, 4, 1]\n"
     ]
    }
   ],
   "source": [
    "print(sorted(list_2, reverse=True))"
   ]
  },
  {
   "cell_type": "code",
   "execution_count": 12,
   "id": "97bd1181-cfa6-4cdd-a391-46597b14fdb5",
   "metadata": {},
   "outputs": [],
   "source": [
    "\n",
    "max = 0\n",
    "for i in list_2:\n",
    "    if i > max :\n",
    "        max  = i"
   ]
  },
  {
   "cell_type": "code",
   "execution_count": 13,
   "id": "8d2d1c5e-4748-4af6-9b6d-d2dfc51cafb4",
   "metadata": {},
   "outputs": [
    {
     "data": {
      "text/plain": [
       "200"
      ]
     },
     "execution_count": 13,
     "metadata": {},
     "output_type": "execute_result"
    }
   ],
   "source": [
    "max"
   ]
  },
  {
   "cell_type": "code",
   "execution_count": 15,
   "id": "9e9dab45-2869-4b15-9469-a119dce411a2",
   "metadata": {},
   "outputs": [],
   "source": [
    "def getMax(arr):\n",
    "    max = 0\n",
    "    for i in list_2:\n",
    "        if i > max :\n",
    "            max  = i\n",
    "    return max"
   ]
  },
  {
   "cell_type": "code",
   "execution_count": null,
   "id": "7beac69b-e3b4-42da-ad9c-633ed587fb2e",
   "metadata": {},
   "outputs": [],
   "source": [
    "getMax(lis)"
   ]
  }
 ],
 "metadata": {
  "kernelspec": {
   "display_name": "Python 3 (ipykernel)",
   "language": "python",
   "name": "python3"
  },
  "language_info": {
   "codemirror_mode": {
    "name": "ipython",
    "version": 3
   },
   "file_extension": ".py",
   "mimetype": "text/x-python",
   "name": "python",
   "nbconvert_exporter": "python",
   "pygments_lexer": "ipython3",
   "version": "3.10.12"
  }
 },
 "nbformat": 4,
 "nbformat_minor": 5
}
