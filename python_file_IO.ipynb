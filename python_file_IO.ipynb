{
 "cells": [
  {
   "cell_type": "code",
   "execution_count": 42,
   "id": "50a2b629-828b-4414-b40c-29d9ea5dd4e2",
   "metadata": {},
   "outputs": [],
   "source": [
    "file1  = open(\"demo.txt\", \"r\")\n",
    "file2  = open(\"demo1.txt\", \"w\")"
   ]
  },
  {
   "cell_type": "code",
   "execution_count": 45,
   "id": "88b452d0-941a-41c7-ad4d-e1e09e806be7",
   "metadata": {},
   "outputs": [
    {
     "name": "stdout",
     "output_type": "stream",
     "text": [
      "Writing data from file1 to file2\n"
     ]
    }
   ],
   "source": [
    "lines = file1.readlines()\n",
    "print(\"Writing data from file1 to file2\")\n",
    "for l in lines:\n",
    "    file2.write(l)\n",
    "    print(l)"
   ]
  },
  {
   "cell_type": "code",
   "execution_count": 46,
   "id": "70f5213e-0017-48a9-acd4-43dcbdf54c78",
   "metadata": {},
   "outputs": [
    {
     "name": "stdout",
     "output_type": "stream",
     "text": [
      "Hello! Welcome to demofile.txt\n",
      "\n",
      "This file is for testing purposes.\n",
      "\n",
      "Good Luck!\n"
     ]
    }
   ],
   "source": [
    "file3  = open(\"demo1.txt\")\n",
    "for l1 in file3.readlines():\n",
    "    print(l1)"
   ]
  },
  {
   "cell_type": "code",
   "execution_count": null,
   "id": "129506d8-a479-4b0a-bc87-ec9dae7778b0",
   "metadata": {},
   "outputs": [],
   "source": []
  }
 ],
 "metadata": {
  "kernelspec": {
   "display_name": "Python 3 (ipykernel)",
   "language": "python",
   "name": "python3"
  },
  "language_info": {
   "codemirror_mode": {
    "name": "ipython",
    "version": 3
   },
   "file_extension": ".py",
   "mimetype": "text/x-python",
   "name": "python",
   "nbconvert_exporter": "python",
   "pygments_lexer": "ipython3",
   "version": "3.10.12"
  }
 },
 "nbformat": 4,
 "nbformat_minor": 5
}
