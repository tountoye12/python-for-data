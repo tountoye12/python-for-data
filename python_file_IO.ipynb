{
 "cells": [
  {
   "cell_type": "markdown",
   "id": "f180dbf6-ebfc-4294-850e-84998f409f07",
   "metadata": {},
   "source": [
    "# File IO with Error Handling"
   ]
  },
  {
   "cell_type": "code",
   "execution_count": 67,
   "id": "50a2b629-828b-4414-b40c-29d9ea5dd4e2",
   "metadata": {},
   "outputs": [
    {
     "name": "stdout",
     "output_type": "stream",
     "text": [
      "Writing data from file1 to file2\n",
      "Hello! Welcome to demofile.txt\n",
      "\n",
      "This file is for testing purposes.\n",
      "\n",
      "Good Luck!\n",
      "['Hello! Welcome to demofile.txt\\n', 'This file is for testing purposes.\\n', 'Good Luck!Now the file has more content!Hello! Welcome to demofile.txt\\n', 'This file is for testing purposes.\\n', 'Good Luck!Now the file has more content!']\n"
     ]
    }
   ],
   "source": [
    "try:\n",
    "    with open(\"demo.txt\", \"r\")  as file1:\n",
    "        lines = file1.readlines()\n",
    "        print(\"Writing data from file1 to file2\")\n",
    "        with open(\"demo1.txt\", \"r+\") as file2:\n",
    "            for l in lines:\n",
    "                file2.write(l)\n",
    "                print(l)\n",
    "            file2.write(\"Now the file has more content!\")\n",
    "            print(file2.readlines())\n",
    "            file2.close()\n",
    "        file1.close()\n",
    "except IOError as er:\n",
    "    print(er)\n",
    "     "
   ]
  },
  {
   "cell_type": "markdown",
   "id": "56b4b7f3-007c-408b-97ed-aa98f105ce32",
   "metadata": {},
   "source": [
    "# List comprehenshion"
   ]
  },
  {
   "cell_type": "code",
   "execution_count": 71,
   "id": "88b452d0-941a-41c7-ad4d-e1e09e806be7",
   "metadata": {},
   "outputs": [
    {
     "data": {
      "text/plain": [
       "[0, 1, 2, 3, 4]"
      ]
     },
     "execution_count": 71,
     "metadata": {},
     "output_type": "execute_result"
    }
   ],
   "source": [
    "nums = [i for i in range(5)]\n",
    "nums"
   ]
  },
  {
   "cell_type": "code",
   "execution_count": null,
   "id": "70f5213e-0017-48a9-acd4-43dcbdf54c78",
   "metadata": {},
   "outputs": [],
   "source": []
  },
  {
   "cell_type": "code",
   "execution_count": null,
   "id": "129506d8-a479-4b0a-bc87-ec9dae7778b0",
   "metadata": {},
   "outputs": [],
   "source": []
  }
 ],
 "metadata": {
  "kernelspec": {
   "display_name": "Python 3 (ipykernel)",
   "language": "python",
   "name": "python3"
  },
  "language_info": {
   "codemirror_mode": {
    "name": "ipython",
    "version": 3
   },
   "file_extension": ".py",
   "mimetype": "text/x-python",
   "name": "python",
   "nbconvert_exporter": "python",
   "pygments_lexer": "ipython3",
   "version": "3.10.12"
  }
 },
 "nbformat": 4,
 "nbformat_minor": 5
}
