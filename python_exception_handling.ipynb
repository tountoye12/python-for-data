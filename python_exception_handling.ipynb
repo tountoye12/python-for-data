{
 "cells": [
  {
   "cell_type": "markdown",
   "id": "d0846420-b028-4572-a3b6-786b87c1881d",
   "metadata": {},
   "source": [
    "# Exception and Error Handling"
   ]
  },
  {
   "cell_type": "code",
   "execution_count": 3,
   "id": "3c063da6-2377-48af-bb09-430d0f39dbb5",
   "metadata": {},
   "outputs": [
    {
     "name": "stdout",
     "output_type": "stream",
     "text": [
      "Exception blod division by zero\n"
     ]
    }
   ],
   "source": [
    "try:\n",
    "    a = 55\n",
    "    b = 0\n",
    "    c = a/b\n",
    "    print(c)\n",
    "except Exception as e:\n",
    "    print(\"Exception blod\", e)\n"
   ]
  },
  {
   "cell_type": "code",
   "execution_count": null,
   "id": "8da08c52-e668-43a3-a753-860bd3982ba8",
   "metadata": {},
   "outputs": [],
   "source": []
  }
 ],
 "metadata": {
  "kernelspec": {
   "display_name": "Python 3 (ipykernel)",
   "language": "python",
   "name": "python3"
  },
  "language_info": {
   "codemirror_mode": {
    "name": "ipython",
    "version": 3
   },
   "file_extension": ".py",
   "mimetype": "text/x-python",
   "name": "python",
   "nbconvert_exporter": "python",
   "pygments_lexer": "ipython3",
   "version": "3.10.12"
  }
 },
 "nbformat": 4,
 "nbformat_minor": 5
}
