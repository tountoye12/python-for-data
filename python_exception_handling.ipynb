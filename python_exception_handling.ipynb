{
 "cells": [
  {
   "cell_type": "markdown",
   "id": "d0846420-b028-4572-a3b6-786b87c1881d",
   "metadata": {},
   "source": [
    "# Exception and Error Handling"
   ]
  },
  {
   "cell_type": "code",
   "execution_count": 7,
   "id": "3c063da6-2377-48af-bb09-430d0f39dbb5",
   "metadata": {},
   "outputs": [
    {
     "name": "stdout",
     "output_type": "stream",
     "text": [
      "Exception blod division by zero\n"
     ]
    }
   ],
   "source": [
    "try:\n",
    "    a = 55\n",
    "    b = 0\n",
    "    c = a/b\n",
    "    print(c)\n",
    "except Exception as e:\n",
    "    print(\"Exception blod\", e)\n"
   ]
  },
  {
   "cell_type": "code",
   "execution_count": 8,
   "id": "8da08c52-e668-43a3-a753-860bd3982ba8",
   "metadata": {},
   "outputs": [],
   "source": [
    "def division(a, b):\n",
    "\n",
    "    try:\n",
    "        return a/b\n",
    "    except Exception as e:\n",
    "        print(\"Exception raised - Please verify: \", e)"
   ]
  },
  {
   "cell_type": "code",
   "execution_count": 12,
   "id": "89e7ca46-7c7e-477d-b22a-bee4433dec62",
   "metadata": {},
   "outputs": [
    {
     "name": "stdout",
     "output_type": "stream",
     "text": [
      "Exception raised - Please verify:  division by zero\n"
     ]
    }
   ],
   "source": [
    "division(10, 0)"
   ]
  },
  {
   "cell_type": "code",
   "execution_count": 11,
   "id": "be9b3ef9-1b22-4a5e-b161-2572b72f43fc",
   "metadata": {},
   "outputs": [
    {
     "data": {
      "text/plain": [
       "1.0"
      ]
     },
     "execution_count": 11,
     "metadata": {},
     "output_type": "execute_result"
    }
   ],
   "source": [
    "division(10, 10)"
   ]
  },
  {
   "cell_type": "code",
   "execution_count": null,
   "id": "6a5276b6-783e-4f6a-b735-d54f060e804e",
   "metadata": {},
   "outputs": [],
   "source": []
  }
 ],
 "metadata": {
  "kernelspec": {
   "display_name": "Python 3 (ipykernel)",
   "language": "python",
   "name": "python3"
  },
  "language_info": {
   "codemirror_mode": {
    "name": "ipython",
    "version": 3
   },
   "file_extension": ".py",
   "mimetype": "text/x-python",
   "name": "python",
   "nbconvert_exporter": "python",
   "pygments_lexer": "ipython3",
   "version": "3.10.12"
  }
 },
 "nbformat": 4,
 "nbformat_minor": 5
}
