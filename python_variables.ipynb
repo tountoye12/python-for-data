{
 "cells": [
  {
   "cell_type": "code",
   "execution_count": 4,
   "id": "b3b01b50-e1fb-46a5-b1d1-ac66d0fa3b89",
   "metadata": {},
   "outputs": [],
   "source": [
    "\n",
    "#Variables"
   ]
  },
  {
   "cell_type": "code",
   "execution_count": 7,
   "id": "ee94e688-f1b0-4147-8a69-39e248ea506d",
   "metadata": {},
   "outputs": [],
   "source": [
    "def some(a, b):\n",
    "    return a + b"
   ]
  },
  {
   "cell_type": "code",
   "execution_count": 8,
   "id": "e95292c5-055b-4da9-aae7-4e62065a6814",
   "metadata": {},
   "outputs": [
    {
     "name": "stdout",
     "output_type": "stream",
     "text": [
      "3\n"
     ]
    }
   ],
   "source": [
    "result  = some(1,2)\n",
    "print(result)"
   ]
  },
  {
   "cell_type": "code",
   "execution_count": 14,
   "id": "07bbd5f2-3d53-415a-9568-bb28e7d950a6",
   "metadata": {},
   "outputs": [
    {
     "name": "stdout",
     "output_type": "stream",
     "text": [
      "My name is Diallo and I'm from gn\n"
     ]
    }
   ],
   "source": [
    "name = \"Diallo\"\n",
    "pays = \"gn\"\n",
    "print('My name is {} and I\\'m from {}'.format(name, pays))"
   ]
  },
  {
   "cell_type": "code",
   "execution_count": 19,
   "id": "e3b4612e-13da-487a-adcf-9881e0074fb0",
   "metadata": {},
   "outputs": [],
   "source": [
    "a = 2\n",
    "b = a\n",
    "a += 3"
   ]
  },
  {
   "cell_type": "code",
   "execution_count": 16,
   "id": "3526b97e-4ec1-493f-ab9c-aed0afa7e43d",
   "metadata": {},
   "outputs": [
    {
     "data": {
      "text/plain": [
       "2"
      ]
     },
     "execution_count": 16,
     "metadata": {},
     "output_type": "execute_result"
    }
   ],
   "source": [
    "b"
   ]
  },
  {
   "cell_type": "code",
   "execution_count": 20,
   "id": "128fbdd4-e0c1-4e4e-86c6-3d6cb5ac0ef0",
   "metadata": {},
   "outputs": [
    {
     "data": {
      "text/plain": [
       "5"
      ]
     },
     "execution_count": 20,
     "metadata": {},
     "output_type": "execute_result"
    }
   ],
   "source": [
    "a"
   ]
  },
  {
   "cell_type": "code",
   "execution_count": 27,
   "id": "be58b8da-2e07-46aa-9d05-f422aae5b854",
   "metadata": {},
   "outputs": [
    {
     "name": "stdout",
     "output_type": "stream",
     "text": [
      "True\n"
     ]
    }
   ],
   "source": [
    "if a > b: print(True)"
   ]
  },
  {
   "cell_type": "code",
   "execution_count": 29,
   "id": "f8759878-cd5e-4158-b570-354b77c7bc26",
   "metadata": {},
   "outputs": [],
   "source": [
    "# For loop"
   ]
  },
  {
   "cell_type": "code",
   "execution_count": 26,
   "id": "5bb9196b-2687-4275-a22a-3979ac0641f1",
   "metadata": {},
   "outputs": [
    {
     "name": "stdout",
     "output_type": "stream",
     "text": [
      "0\n",
      "1\n",
      "2\n",
      "3\n",
      "4\n",
      "5\n",
      "6\n",
      "7\n"
     ]
    }
   ],
   "source": [
    "for i in range(10):\n",
    "    print(i)\n",
    "    if i == 7:\n",
    "        break"
   ]
  },
  {
   "cell_type": "code",
   "execution_count": 1,
   "id": "297d8a8c-0079-4051-bdfb-4daa35d0805c",
   "metadata": {},
   "outputs": [
    {
     "name": "stdout",
     "output_type": "stream",
     "text": [
      "[1]\n",
      "[1, 3]\n",
      "[1, 3, 5]\n",
      "[1, 3, 5, 7]\n",
      "[1, 3, 5, 7, 9]\n"
     ]
    }
   ],
   "source": [
    "oddNumbers = []\n",
    "for i in  range(10):\n",
    "    if i % 2 == 0:\n",
    "        continue\n",
    "    oddNumbers.append(i)\n",
    "    print(oddNumbers)"
   ]
  },
  {
   "cell_type": "code",
   "execution_count": 2,
   "id": "d7a7311a-31bb-4d92-ad6c-9199fd6c653f",
   "metadata": {},
   "outputs": [
    {
     "name": "stdout",
     "output_type": "stream",
     "text": [
      "[1, 3, 5, 7, 9]\n"
     ]
    }
   ],
   "source": [
    "print(oddNumbers)"
   ]
  },
  {
   "cell_type": "code",
   "execution_count": 4,
   "id": "3f7b28eb-82ab-4d47-b24c-f2175ea840ce",
   "metadata": {},
   "outputs": [
    {
     "name": "stdout",
     "output_type": "stream",
     "text": [
      "0\n",
      "3\n",
      "6\n",
      "9\n"
     ]
    }
   ],
   "source": [
    "k = 0;\n",
    "while k < 10:\n",
    "    print(k)\n",
    "    k+= 3"
   ]
  },
  {
   "cell_type": "code",
   "execution_count": null,
   "id": "3e744b49-c049-4fa4-a302-feeb1212d944",
   "metadata": {},
   "outputs": [],
   "source": []
  }
 ],
 "metadata": {
  "kernelspec": {
   "display_name": "Python 3 (ipykernel)",
   "language": "python",
   "name": "python3"
  },
  "language_info": {
   "codemirror_mode": {
    "name": "ipython",
    "version": 3
   },
   "file_extension": ".py",
   "mimetype": "text/x-python",
   "name": "python",
   "nbconvert_exporter": "python",
   "pygments_lexer": "ipython3",
   "version": "3.10.12"
  }
 },
 "nbformat": 4,
 "nbformat_minor": 5
}
