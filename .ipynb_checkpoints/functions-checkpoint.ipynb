{
 "cells": [
  {
   "cell_type": "code",
   "execution_count": 2,
   "id": "f463dfe8-3fd9-4ff8-a328-454680aeed4f",
   "metadata": {},
   "outputs": [],
   "source": [
    "def hello():\n",
    "    print(\"Hello\")"
   ]
  },
  {
   "cell_type": "code",
   "execution_count": 4,
   "id": "d9fabc3d-aaba-4d8c-a614-c06dd292c874",
   "metadata": {},
   "outputs": [
    {
     "name": "stdout",
     "output_type": "stream",
     "text": [
      "Hello\n"
     ]
    }
   ],
   "source": [
    "hello()"
   ]
  },
  {
   "cell_type": "code",
   "execution_count": 5,
   "id": "4d85c58e-6e29-4b73-ac98-dc088178d3db",
   "metadata": {},
   "outputs": [],
   "source": [
    "def prodcut(a, b):\n",
    "    return a * b"
   ]
  },
  {
   "cell_type": "code",
   "execution_count": 6,
   "id": "91d8d29a-f5e3-49e5-a998-2564182b8fa4",
   "metadata": {},
   "outputs": [
    {
     "data": {
      "text/plain": [
       "30"
      ]
     },
     "execution_count": 6,
     "metadata": {},
     "output_type": "execute_result"
    }
   ],
   "source": [
    "product_result  = prodcut(10, 3);\n",
    "product_result"
   ]
  },
  {
   "cell_type": "markdown",
   "id": "6b9515d8-ba32-4932-a8ef-c5eb6f2ea7d6",
   "metadata": {},
   "source": [
    "# Arbitrary Arguments, *args\n",
    "    If you do not know how many arguments that will be passed into your function, add a * before the parameter name in the function              definition.\n",
    "    This way the function will receive a tuple of arguments, and can access the items accordingly:\n",
    "    If the number of arguments is unknown, add a * before the parameter name:"
   ]
  },
  {
   "cell_type": "code",
   "execution_count": 24,
   "id": "bd5991e0-48f4-4ff0-9faa-f32548702ef4",
   "metadata": {},
   "outputs": [],
   "source": [
    "def products(*a):\n",
    "    result  = 1;\n",
    "    for i in a:\n",
    "        result *= i;\n",
    "    return result"
   ]
  },
  {
   "cell_type": "code",
   "execution_count": 25,
   "id": "a5a9dc73-b2af-45b1-a5e1-772e3c9ffa33",
   "metadata": {},
   "outputs": [
    {
     "name": "stdout",
     "output_type": "stream",
     "text": [
      "19\n"
     ]
    }
   ],
   "source": [
    "print(products(2,3,4,10))"
   ]
  },
  {
   "cell_type": "code",
   "execution_count": 14,
   "id": "45451dc3-92ec-46f0-958f-74d83b400b1f",
   "metadata": {},
   "outputs": [],
   "source": [
    "# Make the parameter optional\n",
    "def greating(name = \"Diallo\"):\n",
    "    return \"Hello \" + name"
   ]
  },
  {
   "cell_type": "code",
   "execution_count": 15,
   "id": "2f6930b4-17a0-46ad-b0aa-23ec202467e1",
   "metadata": {},
   "outputs": [
    {
     "data": {
      "text/plain": [
       "'Hello Diallo'"
      ]
     },
     "execution_count": 15,
     "metadata": {},
     "output_type": "execute_result"
    }
   ],
   "source": [
    "greating()"
   ]
  },
  {
   "cell_type": "code",
   "execution_count": 16,
   "id": "10862b04-0a0a-4e8f-821b-1cceb93030f9",
   "metadata": {},
   "outputs": [
    {
     "data": {
      "text/plain": [
       "'Hello Bah'"
      ]
     },
     "execution_count": 16,
     "metadata": {},
     "output_type": "execute_result"
    }
   ],
   "source": [
    "greating(\"Bah\")"
   ]
  },
  {
   "cell_type": "markdown",
   "id": "569b7acb-d702-4a16-bd96-7ae63d723a7e",
   "metadata": {},
   "source": [
    "# Arbitrary Keyword Arguments, **kwargs \n",
    "    If you do not know how many keyword arguments that will be passed into your function, add two asterisk: ** before the parameter name in the function definition.\n",
    "\n",
    "    This way the function will receive a dictionary of arguments, and can access the items accordingly"
   ]
  },
  {
   "cell_type": "code",
   "execution_count": 20,
   "id": "63e28d86-a3d4-44ef-b235-d2eb8863c6d9",
   "metadata": {},
   "outputs": [],
   "source": [
    "def my_function(**a):\n",
    "    print(a)"
   ]
  },
  {
   "cell_type": "code",
   "execution_count": 21,
   "id": "22a14d3e-d698-45f6-bf99-83db0c578072",
   "metadata": {},
   "outputs": [
    {
     "name": "stdout",
     "output_type": "stream",
     "text": [
      "{'age': 20, 'fname': 'Ly', 'pays': 'Gn'}\n"
     ]
    }
   ],
   "source": [
    "my_function(age = 20, fname = \"Ly\", pays = \"Gn\")"
   ]
  },
  {
   "cell_type": "code",
   "execution_count": null,
   "id": "0e3c7377-950b-41c9-b4fe-bff70f7d3910",
   "metadata": {},
   "outputs": [],
   "source": []
  }
 ],
 "metadata": {
  "kernelspec": {
   "display_name": "Python 3 (ipykernel)",
   "language": "python",
   "name": "python3"
  },
  "language_info": {
   "codemirror_mode": {
    "name": "ipython",
    "version": 3
   },
   "file_extension": ".py",
   "mimetype": "text/x-python",
   "name": "python",
   "nbconvert_exporter": "python",
   "pygments_lexer": "ipython3",
   "version": "3.10.12"
  }
 },
 "nbformat": 4,
 "nbformat_minor": 5
}
