{
 "cells": [
  {
   "cell_type": "markdown",
   "id": "895d4647-f1b8-46cd-bf26-8dc53dbb67d2",
   "metadata": {},
   "source": [
    "# Set\n",
    "    It contains only unique values"
   ]
  },
  {
   "cell_type": "code",
   "execution_count": 3,
   "id": "fcbf8f00-bff4-485c-b5d1-e5f5dc9a44e5",
   "metadata": {},
   "outputs": [
    {
     "name": "stdout",
     "output_type": "stream",
     "text": [
      "<class 'set'>\n",
      "{1, 2, 3, 4, 5}\n"
     ]
    }
   ],
   "source": [
    "mySet = {1,2,3,4,5,5}\n",
    "print(type(mySet))\n",
    "print(mySet)"
   ]
  },
  {
   "cell_type": "markdown",
   "id": "91bcf6b3-6352-495c-8c2b-eea101a23fa8",
   "metadata": {},
   "source": [
    "# Dictionary\n",
    "    Duplicates Not Allowed\n",
    "    Dictionaries cannot have two items with the same key:"
   ]
  },
  {
   "cell_type": "code",
   "execution_count": 5,
   "id": "df37c821-b3e1-4c6a-b0a5-373973815c13",
   "metadata": {},
   "outputs": [
    {
     "data": {
      "text/plain": [
       "{'lname': 'Adama', 'fname': 'Diallo', 'pays': 'gn'}"
      ]
     },
     "execution_count": 5,
     "metadata": {},
     "output_type": "execute_result"
    }
   ],
   "source": [
    "person = {\n",
    "    \"lname\": \"Mamadou\",\n",
    "    \"fname\": \"Diallo\",\n",
    "    \"pays\": \"gn\"\n",
    "}\n",
    "person"
   ]
  },
  {
   "cell_type": "markdown",
   "id": "7508b6d1-43e0-4474-98f7-38e4757913eb",
   "metadata": {},
   "source": [
    "# The dict() Constructor\n",
    "It is also possible to use the dict() constructor to make a dictionary."
   ]
  },
  {
   "cell_type": "code",
   "execution_count": 20,
   "id": "f4aae6c9-2d45-4cae-9b54-57ad69805e58",
   "metadata": {},
   "outputs": [
    {
     "data": {
      "text/plain": [
       "{'name': 'Doe', 'age': 20, 'pays': 'Gn'}"
      ]
     },
     "execution_count": 20,
     "metadata": {},
     "output_type": "execute_result"
    }
   ],
   "source": [
    "person2 = dict(name = \"Doe\", age =20, pays = \"Gn\")\n",
    "person2"
   ]
  },
  {
   "cell_type": "markdown",
   "id": "b2e936c9-bb87-4a1c-8385-cd83aa0b9393",
   "metadata": {},
   "source": [
    "# Accessing Items"
   ]
  },
  {
   "cell_type": "code",
   "execution_count": 10,
   "id": "ae1bc889-0e99-4366-b70f-57dd76dbdb12",
   "metadata": {},
   "outputs": [],
   "source": [
    "car  = dict(brand = \"Ford\", model = \"M5\", year = 2020)"
   ]
  },
  {
   "cell_type": "code",
   "execution_count": 12,
   "id": "be8b1bf2-be14-41af-a64a-2a6bd653bbe2",
   "metadata": {},
   "outputs": [
    {
     "data": {
      "text/plain": [
       "2020"
      ]
     },
     "execution_count": 12,
     "metadata": {},
     "output_type": "execute_result"
    }
   ],
   "source": [
    "car[\"year\"]"
   ]
  },
  {
   "cell_type": "code",
   "execution_count": 13,
   "id": "f1c1dae4-932e-4782-b60f-88c8aeb2e82d",
   "metadata": {},
   "outputs": [],
   "source": [
    "car[\"milleage\"] = 1000"
   ]
  },
  {
   "cell_type": "code",
   "execution_count": 18,
   "id": "307d262d-aef7-4ef9-95b6-fd301abe68cd",
   "metadata": {},
   "outputs": [
    {
     "data": {
      "text/plain": [
       "dict_keys(['brand', 'model', 'year', 'milleage'])"
      ]
     },
     "execution_count": 18,
     "metadata": {},
     "output_type": "execute_result"
    }
   ],
   "source": [
    "car_keys = car.keys()\n",
    "car_keys"
   ]
  },
  {
   "cell_type": "markdown",
   "id": "af53f891-14f6-4997-ab30-dd79ac414317",
   "metadata": {},
   "source": [
    "# Update Dictionary"
   ]
  },
  {
   "cell_type": "code",
   "execution_count": 23,
   "id": "2a6a814f-3943-4c44-a7db-2b5db1188670",
   "metadata": {},
   "outputs": [],
   "source": [
    "car[\"model\"] =  \"M6\"\n",
    "car.update({\"year\": 2024})"
   ]
  },
  {
   "cell_type": "code",
   "execution_count": 28,
   "id": "0ecac8b5-5360-4cdd-ad1f-ce00b7873a76",
   "metadata": {},
   "outputs": [],
   "source": [
    "car[\"driver\"] =  \"Mr\""
   ]
  },
  {
   "cell_type": "code",
   "execution_count": 29,
   "id": "5c44f97a-cebf-4682-9a4a-22da237e32b1",
   "metadata": {},
   "outputs": [
    {
     "data": {
      "text/plain": [
       "{'brand': 'Ford',\n",
       " 'model': 'M6',\n",
       " 'year': 2024,\n",
       " 'milleage': 1000,\n",
       " 'driver': 'Mr'}"
      ]
     },
     "execution_count": 29,
     "metadata": {},
     "output_type": "execute_result"
    }
   ],
   "source": [
    "car"
   ]
  },
  {
   "cell_type": "markdown",
   "id": "af9cbec0-94d1-479a-9ad5-b27d342a3f0b",
   "metadata": {},
   "source": [
    "# Remove Item\n",
    "    There are several methods to remove items from a dictionary:\n",
    "    The pop() method removes the item with the specified key name:\n",
    "    The popitem() method removes the last inserted item (in versions before 3.7, a random item is removed instead):\n",
    "    The clear() method empties the dictionary:\n",
    "    "
   ]
  },
  {
   "cell_type": "code",
   "execution_count": 31,
   "id": "8b8fc443-38ba-42bc-960d-2fb2b077dd81",
   "metadata": {},
   "outputs": [
    {
     "data": {
      "text/plain": [
       "'Mr'"
      ]
     },
     "execution_count": 31,
     "metadata": {},
     "output_type": "execute_result"
    }
   ],
   "source": [
    "car.pop(\"driver\")"
   ]
  },
  {
   "cell_type": "code",
   "execution_count": 36,
   "id": "896f2032-c8c8-4d41-b505-e074e7f43c78",
   "metadata": {},
   "outputs": [
    {
     "name": "stdout",
     "output_type": "stream",
     "text": [
      "lname => Adama\n",
      "fname => Diallo\n",
      "pays => gn\n"
     ]
    }
   ],
   "source": [
    "for p in person:\n",
    "    \n",
    "    print( \"{} => {}\".format(p, person[p]))"
   ]
  },
  {
   "cell_type": "markdown",
   "id": "53db3848-61f5-435e-9451-bfb19203f050",
   "metadata": {},
   "source": [
    "# Copy a Dictionary\n",
    "    You cannot copy a dictionary simply by typing dict2 = dict1, because: dict2 will only be a reference to dict1, and changes made in         dict1 will automatically also be made in dict2.\n",
    "    There are ways to make a copy, one way is to use the built-in Dictionary method copy().\n",
    "    "
   ]
  },
  {
   "cell_type": "markdown",
   "id": "e5b9f69a-fef0-47dc-8bf3-6943837a542a",
   "metadata": {},
   "source": [
    "# Make a copy of a dictionary with the copy() method:"
   ]
  },
  {
   "cell_type": "code",
   "execution_count": 38,
   "id": "a0f79242-41a3-4071-b629-c28114b1ade8",
   "metadata": {},
   "outputs": [],
   "source": [
    "new_car = car.copy()"
   ]
  },
  {
   "cell_type": "markdown",
   "id": "8dfae35e-64e4-42fd-b126-cc54308f8b9a",
   "metadata": {},
   "source": [
    "# Another way to make a copy is to use the built-in function dict()"
   ]
  },
  {
   "cell_type": "code",
   "execution_count": 39,
   "id": "a0b9911e-bb0e-4c43-a0b6-216351e3dc43",
   "metadata": {},
   "outputs": [],
   "source": [
    "car_built = dict(car)"
   ]
  },
  {
   "cell_type": "markdown",
   "id": "a7551229-8ea9-4ebc-a656-4d05f08e23d0",
   "metadata": {},
   "source": [
    "# Nested Dictionary"
   ]
  },
  {
   "cell_type": "code",
   "execution_count": 40,
   "id": "071f3cc7-5f17-4c02-91d6-79bd668dd480",
   "metadata": {},
   "outputs": [],
   "source": [
    "myfamily = {\n",
    "  \"child1\" : {\n",
    "    \"name\" : \"Emil\",\n",
    "    \"year\" : 2004\n",
    "  },\n",
    "  \"child2\" : {\n",
    "    \"name\" : \"Tobias\",\n",
    "    \"year\" : 2007\n",
    "  },\n",
    "  \"child3\" : {\n",
    "    \"name\" : \"Linus\",\n",
    "    \"year\" : 2011\n",
    "  }\n",
    "}"
   ]
  },
  {
   "cell_type": "code",
   "execution_count": 41,
   "id": "0376e53c-7b06-4afa-946a-7beedb614e54",
   "metadata": {},
   "outputs": [
    {
     "data": {
      "text/plain": [
       "'Tobias'"
      ]
     },
     "execution_count": 41,
     "metadata": {},
     "output_type": "execute_result"
    }
   ],
   "source": [
    "# Access value\n",
    "myfamily[\"child2\"][\"name\"]"
   ]
  },
  {
   "cell_type": "code",
   "execution_count": 45,
   "id": "cf15a82a-cd51-46e3-9ffd-87ef67b6eac7",
   "metadata": {},
   "outputs": [
    {
     "name": "stdout",
     "output_type": "stream",
     "text": [
      "child1\n",
      "name: Emil\n",
      "year: 2004\n",
      "child2\n",
      "name: Tobias\n",
      "year: 2007\n",
      "child3\n",
      "name: Linus\n",
      "year: 2011\n"
     ]
    }
   ],
   "source": [
    "for k, v in myfamily.items():\n",
    "    print(k)\n",
    "    for r in v:\n",
    "        print( r + \":\", v[r])"
   ]
  },
  {
   "cell_type": "code",
   "execution_count": 46,
   "id": "7ced1e43-32a5-4e52-9fa7-e69143942f3e",
   "metadata": {},
   "outputs": [
    {
     "name": "stdout",
     "output_type": "stream",
     "text": [
      "dict_items([('child1', {'name': 'Emil', 'year': 2004}), ('child2', {'name': 'Tobias', 'year': 2007}), ('child3', {'name': 'Linus', 'year': 2011})])\n"
     ]
    }
   ],
   "source": [
    "print(myfamily.items())"
   ]
  },
  {
   "cell_type": "code",
   "execution_count": null,
   "id": "947a11db-e2f7-45f3-964c-d7fbfe31cf9f",
   "metadata": {},
   "outputs": [],
   "source": []
  }
 ],
 "metadata": {
  "kernelspec": {
   "display_name": "Python 3 (ipykernel)",
   "language": "python",
   "name": "python3"
  },
  "language_info": {
   "codemirror_mode": {
    "name": "ipython",
    "version": 3
   },
   "file_extension": ".py",
   "mimetype": "text/x-python",
   "name": "python",
   "nbconvert_exporter": "python",
   "pygments_lexer": "ipython3",
   "version": "3.10.12"
  }
 },
 "nbformat": 4,
 "nbformat_minor": 5
}
